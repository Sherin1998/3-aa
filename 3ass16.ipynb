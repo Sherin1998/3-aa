{
 "cells": [
  {
   "cell_type": "code",
   "execution_count": null,
   "metadata": {},
   "outputs": [],
   "source": [
    "#1\n",
    "def stutter(z):\n",
    "    s=''\n",
    "    q,j=l[0],l[1]\n",
    "    s+=(q+j)\n",
    "    print(f'{s}...{s}...{z}')\n",
    "    \n",
    "z=input('Enter string')\n",
    "stutter(z)"
   ]
  },
  {
   "cell_type": "code",
   "execution_count": null,
   "metadata": {},
   "outputs": [],
   "source": [
    "#2\n",
    "def radians_to_degrees(z):\n",
    "    q=z*(180/3.14)\n",
    "    return q\n",
    "z=float(input('Enter angle in radian'))\n",
    "e=radians_to_degrees(z)\n",
    "print(round(e,1))"
   ]
  },
  {
   "cell_type": "code",
   "execution_count": null,
   "metadata": {},
   "outputs": [],
   "source": [
    "#3\n",
    "def is_curzon(a):\n",
    "    w=(2**a)+1\n",
    "    x=(2*a)+1\n",
    "    if(w%x==0):\n",
    "        return True,w,x\n",
    "    \n",
    "    else:\n",
    "        return False,w,x\n",
    "a=int(input('enter No   :'))\n",
    "res,r,t=is_curzon(a)\n",
    "if(res==True):\n",
    "    print(f'{r} is a multiple of {t}')\n",
    "else: \n",
    "    print(f'{r} is a not a multiple of {t}')"
   ]
  },
  {
   "cell_type": "code",
   "execution_count": null,
   "metadata": {},
   "outputs": [],
   "source": [
    "#4\n",
    "import math\n",
    "def area_of_hexagon(s):\n",
    "    A=(3*math.sqrt(3)*s*s)/2\n",
    "    return A\n",
    "s=int(input('enter side length :'))\n",
    "i=area_of_hexagon(s)\n",
    "print(round(i,1))"
   ]
  },
  {
   "cell_type": "code",
   "execution_count": 4,
   "metadata": {},
   "outputs": [
    {
     "name": "stdout",
     "output_type": "stream",
     "text": [
      "enter decimal no:5\n",
      "101"
     ]
    }
   ],
   "source": [
    "#5\n",
    "def binary(s):\n",
    "    if s > 1:\n",
    "        binary(s//2)\n",
    "    print(s % 2,end = '')\n",
    "   \n",
    "    \n",
    "s=int(input('enter decimal no:'))\n",
    "binary(s)"
   ]
  },
  {
   "cell_type": "code",
   "execution_count": null,
   "metadata": {},
   "outputs": [],
   "source": []
  }
 ],
 "metadata": {
  "kernelspec": {
   "display_name": "Python 3",
   "language": "python",
   "name": "python3"
  },
  "language_info": {
   "codemirror_mode": {
    "name": "ipython",
    "version": 3
   },
   "file_extension": ".py",
   "mimetype": "text/x-python",
   "name": "python",
   "nbconvert_exporter": "python",
   "pygments_lexer": "ipython3",
   "version": "3.8.3"
  }
 },
 "nbformat": 4,
 "nbformat_minor": 4
}
